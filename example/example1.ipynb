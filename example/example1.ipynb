{
 "cells": [
  {
   "cell_type": "markdown",
   "metadata": {},
   "source": [
    "# An example\n",
    "[click here](http://lpsolve.sourceforge.net/5.5/Python.htm) for more details."
   ]
  },
  {
   "cell_type": "markdown",
   "metadata": {},
   "source": [
    "## Import library"
   ]
  },
  {
   "cell_type": "code",
   "execution_count": null,
   "metadata": {},
   "outputs": [],
   "source": [
    "from lpsolve55 import *"
   ]
  },
  {
   "cell_type": "markdown",
   "metadata": {},
   "source": [
    "## make_lp\n",
    "    The make_lp function constructs a new LP. Sets all variables to initial values.\n",
    "    \n",
    "    The LP has *rows* rows and *columns* columns. The matrix contains no values, but space for one value. All arrays that depend on rows and columns are allocated.\n",
    "\n",
    "```python\n",
    "lprec = lpsolve('make_lp',rows, columns)\n",
    "```\n",
    "\n",
    "#### Return Value\n",
    "\n",
    "    Returns a pointer to a new *lprec* structure. This must be provided to almost all lp_solve functions. A NULL return value indicates an error. Specifically not enough memory available to setup an *lprec* structure.\n",
    "\n",
    "#### Parameters\n",
    "\n",
    "* rows\n",
    "\n",
    "        Initial number of rows. Can be 0 as new rows can be added via add_constraint, add_constraintex, str_add_constraint\n",
    "\n",
    "* columns\n",
    "\n",
    "        Initial number of columns. Can be 0 as new columns can be added via add_column, add_columnex, str_add_column"
   ]
  },
  {
   "cell_type": "code",
   "execution_count": null,
   "metadata": {},
   "outputs": [],
   "source": [
    "lp = lpsolve('make_lp', 0, 4)"
   ]
  },
  {
   "cell_type": "markdown",
   "metadata": {},
   "source": [
    "## set_verbose\n",
    "\n",
    "    The set_verbose function sets the verbose level.\n",
    "\n",
    "    lp_solve reports information back to the user. How much information is reported depends on the verbose level. The default verbose level is NORMAL (4). lp_solve determines how verbose a given message is. For example specifying a wrong row/column index values is considered as a SEVERE error. verbose determines how much of the lp_solve message are reported. All messages equal to and below the set level are reported.\n",
    "    The default reporting device is the console screen. It is possible to set a used defined reporting routine via put_logfunc.\n",
    "\n",
    "```python\n",
    "lpsolve('set_verbose', lprec, verbose)\n",
    "```\n",
    "\n",
    "#### Return Value\n",
    "\n",
    "    set_verbose has no return value.\n",
    "\n",
    "#### Parameters\n",
    "\n",
    "* lprec\n",
    "\n",
    "        Pointer to previously created lp model. See return value of make_lp, copy_lp, read_lp, read_LP, read_mps, read_freemps, read_MPS, read_freeMPS, read_XLI\n",
    "\n",
    "* verbose\n",
    "\n",
    "        The verbose level. Can be one of the following values:\n",
    "| Verbose       | Description                                                                           |\n",
    "|---------------|---------------------------------------------------------------------------------------|\n",
    "| NEUTRAL (0)   | Only some specific debug messages in de debug print routines are reported.            |\n",
    "| CRITICAL (1)  | Only critical messages are reported. Hard errors like instability, out of memory, ... |\n",
    "| SEVERE (2)    | Only severe messages are reported. Errors.                                            |\n",
    "| IMPORTANT (3) | Only important messages are reported. Warnings and Errors.                            |\n",
    "| NORMAL (4)    | Normal messages are reported. This is the default.                                    |\n",
    "| DETAILED (5)  | Detailed messages are reported. Like model size, continuing B&B improvements, ...     |\n",
    "| FULL (6)      | All messages are reported. Useful for debugging purposes and small models.            |"
   ]
  },
  {
   "cell_type": "code",
   "execution_count": null,
   "metadata": {},
   "outputs": [],
   "source": [
    "lpsolve('set_verbose', lp, IMPORTANT)"
   ]
  },
  {
   "cell_type": "markdown",
   "metadata": {},
   "source": [
    "## set_obj\n",
    "\n",
    "The **set_obj** function sets the objective value for the specified column. In Python, this routine has two formats. The first format is identical to the API. The second format allows setting a matrix of all variables. It is then the same as **set_obj_fn**.\n",
    "\n",
    "Note that it is advised to set the objective function before adding rows via **add_constraint**. This especially for larger models. This will be much more performant than adding the objective function afterwards.\n",
    "\n",
    "```python\n",
    "lpsolve('set_obj',lp, column, value);\n",
    "```\n",
    "```python\n",
    "lpsolve('set_obj',lp, [row]);\n",
    "```\n",
    "#### Return Value\n",
    "\n",
    "**set_obj** return TRUE (1) if the operation was successful. A return value of FALSE (0) indicates an error.\n",
    "\n",
    "#### Parameters\n",
    "\n",
    "    * lp\n",
    "\n",
    "Pointer to previously created lp model. See return value of **make_lp**, **copy_lp**, **read_lp**, **read_LP**, **read_mps**, **read_freemps**, **read_MPS**, **read_freeMPS**, **read_XLI**\n",
    "\n",
    "    * row\n",
    "\n",
    "An array with **get_Ncolumns** elements that contains the values of the objective function.\n",
    "\n",
    "    * column\n",
    "\n",
    "The column number for which the value must be set.\n",
    "\n",
    "    * value\n",
    "\n",
    "The value that must be set."
   ]
  },
  {
   "cell_type": "code",
   "execution_count": null,
   "metadata": {},
   "outputs": [],
   "source": [
    "lpsolve('set_obj', lp, [1, 3, 6.24, 0.1])"
   ]
  },
  {
   "cell_type": "markdown",
   "metadata": {},
   "source": [
    "## add_constraint\n",
    "\n",
    "The **add_constraint** function add a row to the model (at the end) and sets all values of the row at once.\n",
    "\n",
    "Note that it is advised to set the objective function (via **set_obj**) before adding rows. This especially for larger models. This will be much more performant than adding the objective function afterwards.\n",
    "\n",
    "Note that these routines will perform much better when **set_add_rowmode** is called before adding constraints.\n",
    "\n",
    "Note that if you have to add many constraints, performance can be improved by a call to **resize_lp**.\n",
    "\n",
    "```python\n",
    "lpsolve('add_constraint', lp, [row], constr_type, rh)\n",
    "```\n",
    "\n",
    "#### Return Value\n",
    "\n",
    "**add_constraint** return TRUE (1) if the operation was successful. A return value of FALSE (0) indicates an error.\n",
    "\n",
    "#### Parameters\n",
    "\n",
    "* lp\n",
    "\n",
    "Pointer to previously created lp model. See return value of **make_lp**, **copy_lp**, **read_lp**, **read_LP**, **read_mps**, **read_freemps**, **read_MPS**, **read_freeMPS**, **read_XLI**\n",
    "\n",
    "* row\n",
    "\n",
    "An array with **get_Ncolumns** elements that contains the values of the row.\n",
    "\n",
    "* constr_type\n",
    "\n",
    "The type of the constraint. Can by any of the following values:\n",
    "\n",
    "| type   | description                |\n",
    "|--------|----------------------------|\n",
    "| LE (1) | Less than or equal (<=)    |\n",
    "| EQ (3) | Equal (=)                  |\n",
    "| GE (2) | Greater than or equal (>=) |\n",
    "\n",
    "* rh\n",
    "\n",
    "The value of the right hand side (RHS)."
   ]
  },
  {
   "cell_type": "code",
   "execution_count": null,
   "metadata": {},
   "outputs": [],
   "source": [
    "lpsolve('add_constraint', lp, [0, 78.26, 0, 2.9], GE, 92.3)\n",
    "lpsolve('add_constraint', lp, [0.24, 0, 11.31, 0], LE, 14.8)\n",
    "lpsolve('add_constraint', lp, [12.68, 0, 0.08, 0.9], GE, 4)"
   ]
  },
  {
   "cell_type": "markdown",
   "metadata": {},
   "source": [
    "## set_lowbo\n",
    "The **set_lowbo** function sets a lower bound on the variable identified by *column*.\n",
    "\n",
    "Setting a bound on a variable is the way to go instead of adding an extra constraint (row) to the model. Setting a bound doesn't increase the model size that means that the model stays smaller and will be solved faster.\n",
    "\n",
    "Note that the default lower bound of each variable is 0. So variables will never take negative values if no negative lower bound is set.\n",
    "\n",
    "In Python, this routine has two formats. The first format is identical to the API. The second format allows setting a matrix of all variables.\n",
    "\n",
    "```python\n",
    "lpsolve('set_lowbo', lp, column, value)\n",
    "```\n",
    "```python\n",
    "lpsolve('set_lowbo', lp, [values])\n",
    "```\n",
    "\n",
    "#### Return Value\n",
    "\n",
    "**set_lowbo** returns TRUE (1) if the operation was successful. A return value of FALSE (0) indicates an error.\n",
    "\n",
    "#### Parameters\n",
    "\n",
    "* lp\n",
    "\n",
    "Pointer to previously created lp model. See return value of **make_lp**, **copy_lp**, **read_lp**, **read_LP**, **read_mps**, **read_freemps**, **read_MPS**, **read_freeMPS**, **read_XLI**\n",
    "\n",
    "* column\n",
    "\n",
    "The column number of the variable on which the bound must be set. It must be between 1 and the number of columns in the lp."
   ]
  },
  {
   "cell_type": "code",
   "execution_count": null,
   "metadata": {},
   "outputs": [],
   "source": [
    "lpsolve('set_lowbo', lp, 1, 28.6)\n",
    "lpsolve('set_lowbo', lp, 4, 18)"
   ]
  },
  {
   "cell_type": "markdown",
   "metadata": {},
   "source": [
    "## set_upbo\n",
    "\n",
    "The **set_upbo** function sets an upper bound on the variable identified by *column*.\n",
    "\n",
    "Setting a bound on a variable is the way to go instead of adding an extra constraint (row) to the model. Setting a bound doesn't increase the model size that means that the model stays smaller and will be solved faster.\n",
    "\n",
    "The default upper bound of a variable is infinity (well not quite. It is a very big number, the value of *get_infinite*).\n",
    "\n",
    "In Python, this routine has two formats. The first format is identical to the API. The second format allows setting a matrix of all variables.\n",
    "\n",
    "```python\n",
    "    lpsolve('set_upbo', lp, column, value)\n",
    "```\n",
    "```python\n",
    "    lpsolve('set_upbo', lp, [values])\n",
    "```\n",
    "\n",
    "#### Return Value\n",
    "\n",
    "**set_upbo** returns TRUE (1) if the operation was successful. A return value of FALSE (0) indicates an error.\n",
    "\n",
    "#### Parameters\n",
    "\n",
    "* lp\n",
    "\n",
    "Pointer to previously created lp model. See return value of **make_lp**, **copy_lp**, **read_lp**, **read_LP**, **read_mps**, **read_freemps**, **read_MPS**, **read_freeMPS**, **read_XLI**\n",
    "\n",
    "* column\n",
    "\n",
    "The column number of the variable on which the bound must be set. It must be between 1 and the number of columns in the lp.\n"
   ]
  },
  {
   "cell_type": "code",
   "execution_count": null,
   "metadata": {},
   "outputs": [],
   "source": [
    "lpsolve('set_upbo', lp, 4, 48.98)"
   ]
  },
  {
   "cell_type": "markdown",
   "metadata": {},
   "source": [
    "## set_col_name\n",
    "\n",
    "The **set_col_name** sets the name of the column.\n",
    "\n",
    "The column must already exist. Column names are optional.\n",
    "\n",
    "In Python, this routine has two formats. The first format is identical to the API. The second format allows setting a matrix of all variables.\n",
    "\n",
    "```python\n",
    "lpsolve('set_col_name', lp, column, name)\n",
    "lpsolve('set_col_name', lp, [names])\n",
    "```\n",
    "\n",
    "#### Return Value\n",
    "\n",
    "    **set_col_name** returns TRUE (1) if the operation was successful. A return value of FALSE (0) indicates an error.\n",
    "\n",
    "#### Parameters\n",
    "\n",
    "* lp\n",
    "\n",
    "Pointer to previously created lp model. See return value of **make_lp**, **copy_lp**, **read_lp**, **read_LP**, **read_mps**, **read_freemps**, **read_MPS**, **read_freeMPS**, **read_XLI**\n",
    "\n",
    "* column\n",
    "\n",
    "The column for which the name must be set. Must be between 1 and the number of columns in the lp.\n",
    "\n",
    "* name\n",
    "\n",
    "The name for the column.\n"
   ]
  },
  {
   "cell_type": "code",
   "execution_count": null,
   "metadata": {},
   "outputs": [],
   "source": [
    "lpsolve('set_col_name', lp, ['COLONE', 'COLTWO', 'COLTHREE', 'COLFOUR'])"
   ]
  },
  {
   "cell_type": "markdown",
   "metadata": {},
   "source": [
    "## set_row_name\n",
    "\n",
    "The **set_row_name** sets the name of the row.\n",
    "\n",
    "The row must already exist. row 0 is the objective function. Row names are optional.\n",
    "\n",
    "In Python, this routine has two formats. The first format is identical to the API. The second format allows setting a matrix of all rows.\n",
    "\n",
    "```python\n",
    "lpsolve('set_row_name', lp, row, name)\n",
    "```\n",
    "```python\n",
    "lpsolve('set_row_name', lp, [names])\n",
    "```\n",
    "\n",
    "#### Return Value\n",
    "\n",
    "**set_row_name** returns TRUE (1) if the operation was successful. A return value of FALSE (0) indicates an error.\n",
    "\n",
    "#### Parameters\n",
    "\n",
    "* lp\n",
    "\n",
    "Pointer to previously created lp model. See return value of **make_lp**, **copy_lp**, **read_lp**, **read_LP**, **read_mps**, **read_freemps**, **read_MPS**, **read_freeMPS**, **read_XLI**\n",
    "\n",
    "* row\n",
    "\n",
    "The row for which the name must be set. Must be between 0 and the number of rows in the lp.\n",
    "\n",
    "* name\n",
    "\n",
    "The name for the row."
   ]
  },
  {
   "cell_type": "code",
   "execution_count": null,
   "metadata": {},
   "outputs": [],
   "source": [
    "lpsolve('set_row_name', lp, ['THISROW', 'THATROW', 'LASTROW'])"
   ]
  },
  {
   "cell_type": "markdown",
   "metadata": {},
   "source": [
    "## write_lp\n",
    "\n",
    "The **write_lp** function write the model to *filename*.\n",
    "\n",
    "When *filename* are NULL, then output is written to output set by set_outputstream, set_outputfile. By default this is stdout.\n",
    "\n",
    "The model in the file will be in lp-format.\n",
    "\n",
    "```python\n",
    "lpsolve('write_lp', lp, filename)\n",
    "```\n",
    "\n",
    "#### Return Value\n",
    "\n",
    "The routines return TRUE (1) if the operation was successful. A return value of FALSE (0) indicates an error.\n",
    "\n",
    "Note that row entry mode must be off, else this function also fails. See **set_add_rowmode**\n",
    "\n",
    "#### Parameters\n",
    "\n",
    "* lp\n",
    "\n",
    "Pointer to previously created lp model. See return value of **make_lp**, **copy_lp**, **read_lp**, **read_LP**, **read_mps**, **read_freemps**, **read_MPS**, **read_freeMPS**, **read_XLI**\n",
    "\n",
    "* filename\n",
    "\n",
    "Filename to write the lp model to.\n",
    "\n"
   ]
  },
  {
   "cell_type": "code",
   "execution_count": null,
   "metadata": {},
   "outputs": [],
   "source": [
    "lpsolve('write_lp', lp, 'a.lp')"
   ]
  },
  {
   "cell_type": "markdown",
   "metadata": {},
   "source": [
    "## solve\n",
    "\n",
    "The **solve** function solves the model. **solve** can be called more than once. Between calls, the model may be modified in every way. Restrictions may be changed, matrix values may be changed and even rows and/or columns may be added or deleted.\n",
    "\n",
    "If **set_timeout** was called before solve with a non-zero timeout and a timout occurs, and there was already an integer solution found (that is possibly not the best), then solve will return SUBOPTIMAL. If there was no integer solution found yet or there are no integers or the solvers is still in the first phase where a REAL optimal solution is searched for, then solve will return TIMEOUT.\n",
    "\n",
    "If **set_presolve** was called before solve, then it can happen that presolve eliminates all rows and columns such that the solution is known by presolve. In that case, no solve is done. This also means that values of constraints and sensitivity are unknown. solve will return PRESOLVED in this case.\n",
    "\n",
    "## Return Value\n",
    "\n",
    "| return          | description                                                                                                                                                                                                                                                                                                                                                                                                                                                                                                                                                                                                                                                                                                                                                                        |\n",
    "|-----------------|------------------------------------------------------------------------------------------------------------------------------------------------------------------------------------------------------------------------------------------------------------------------------------------------------------------------------------------------------------------------------------------------------------------------------------------------------------------------------------------------------------------------------------------------------------------------------------------------------------------------------------------------------------------------------------------------------------------------------------------------------------------------------------|\n",
    "| NOMEMORY (-2)   | Out of memory                                                                                                                                                                                                                                                                                                                                                                                                                                                                                                                                                                                                                                                                                                                                                                      |\n",
    "| OPTIMAL (0)     | An optimal solution was obtained                                                                                                                                                                                                                                                                                                                                                                                                                                                                                                                                                                                                                                                                                                                                                   |\n",
    "| SUBOPTIMAL (1)  | The model is sub-optimal. Only happens if there are integer variables and there is already an integer solution found. The solution is not guaranteed the most optimal one. <br> - A timeout occured (set via set_timeout or with the -timeout option in lp_solve) <br> - set_break_at_first was called so that the first found integer solution is found (-f option in lp_solve) <br> - set_break_at_value was called so that when integer solution is found that is better than the specified value that it stops (-o option in lp_solve) <br> - set_mip_gap was called (-g/-ga/-gr options in lp_solve) to specify a MIP gap <br> - An abort function is installed (put_abortfunc) and this function returned TRUE <br> - At some point not enough memory could not be allocated |\n",
    "| INFEASIBLE (2)  | The model is infeasible                                                                                                                                                                                                                                                                                                                                                                                                                                                                                                                                                                                                                                                                                                                                                            |\n",
    "| UNBOUNDED (3)   | The model is unbounded                                                                                                                                                                                                                                                                                                                                                                                                                                                                                                                                                                                                                                                                                                                                                             |\n",
    "| DEGENERATE (4)  | The model is degenerative                                                                                                                                                                                                                                                                                                                                                                                                                                                                                                                                                                                                                                                                                                                                                          |\n",
    "| NUMFAILURE (5)  | Numerical failure encountered                                                                                                                                                                                                                                                                                                                                                                                                                                                                                                                                                                                                                                                                                                                                                      |\n",
    "| USERABORT (6)   | The abort routine returned TRUE. See put_abortfunc                                                                                                                                                                                                                                                                                                                                                                                                                                                                                                                                                                                                                                                                                                                                 |\n",
    "| TIMEOUT (7)     | A timeout occurred. A timeout was set via set_timeout                                                                                                                                                                                                                                                                                                                                                                                                                                                                                                                                                                                                                                                                                                                              |\n",
    "| PRESOLVED (9)   | The model could be solved by presolve. This can only happen if presolve is active via set_presolve                                                                                                                                                                                                                                                                                                                                                                                                                                                                                                                                                                                                                                                                                 |\n",
    "| NUMFAILURE (25) | Accuracy error encountered                                                                                                                                                                                                                                                                                                                                                                                                                                                                                                                                                                                                                                                                                                                                                         |\n",
    "\n",
    "#### Parameters\n",
    "\n",
    "* lp\n",
    "\n",
    "Pointer to previously created lp model. See return value of **make_lp**, **copy_lp**, **read_lp**, **read_LP**, **read_mps**, **read_freemps**, **read_MPS**, **read_freeMPS**, **read_XLI**"
   ]
  },
  {
   "cell_type": "code",
   "execution_count": null,
   "metadata": {},
   "outputs": [],
   "source": [
    "lpsolve('solve', lp)"
   ]
  },
  {
   "cell_type": "markdown",
   "metadata": {},
   "source": [
    "## get_objective\n",
    "\n",
    "The **get_objective** function returns the value of the objective of the last solve.\n",
    "\n",
    "This value is only valid after a successful **solve**.\n",
    "\n",
    "#### Return Value\n",
    "\n",
    "**get_objective** returns the value of the objective.\n",
    "\n",
    "#### Parameters\n",
    "\n",
    "* lp\n",
    "\n",
    "Pointer to previously created lp model. See return value of **make_lp**, **copy_lp**, **read_lp**, **read_LP**, **read_mps**, **read_freemps**, **read_MPS**, **read_freeMPS**, **read_XLI**"
   ]
  },
  {
   "cell_type": "code",
   "execution_count": null,
   "metadata": {},
   "outputs": [],
   "source": [
    "print(lpsolve('get_objective', lp))"
   ]
  },
  {
   "cell_type": "markdown",
   "metadata": {},
   "source": [
    "## get_variables\n",
    "\n",
    "The **get_variables** functions retrieve the values of the variables. These values are only valid after a successful **solve**.\n",
    "\n",
    "#### Parameters\n",
    "\n",
    "* lp\n",
    "\n",
    "Pointer to previously created lp model. See return value of **make_lp**, **copy_lp**, **read_lp**, **read_LP**, **read_mps**, **read_freemps**, **read_MPS**, **read_freeMPS**, **read_XLI**"
   ]
  },
  {
   "cell_type": "code",
   "execution_count": null,
   "metadata": {},
   "outputs": [],
   "source": [
    "print(lpsolve('get_variables', lp)[0])"
   ]
  },
  {
   "cell_type": "markdown",
   "metadata": {},
   "source": [
    "## get_constraints\n",
    "\n",
    "The **get_constraints** function retrieve the values of the constraints.These values are only valid after a successful **solve**.\n",
    "\n",
    "#### Parameters\n",
    "\n",
    "* lp\n",
    "\n",
    "Pointer to previously created lp model. See return value of **make_lp**, **copy_lp**, **read_lp**, **read_LP**, **read_mps**, **read_freemps**, **read_MPS**, **read_freeMPS**, **read_XLI**"
   ]
  },
  {
   "cell_type": "code",
   "execution_count": null,
   "metadata": {},
   "outputs": [],
   "source": [
    "print(lpsolve('get_constraints', lp)[0])"
   ]
  },
  {
   "cell_type": "markdown",
   "metadata": {},
   "source": [
    "## delete_lp\n",
    "\n",
    "The **delete_lp** function frees all memory allocated to the lp structure. \n",
    "\n",
    "#### Return Value\n",
    "\n",
    "None\n",
    "\n",
    "#### Parameters\n",
    "\n",
    "* lp\n",
    "\n",
    "Pointer to previously created lp model. See return value of **make_lp**, **copy_lp**, **read_lp**, **read_LP**, **read_mps**, **read_freemps**, **read_MPS**, **read_freeMPS**, **read_XLI**"
   ]
  },
  {
   "cell_type": "code",
   "execution_count": null,
   "metadata": {},
   "outputs": [],
   "source": [
    "lpsolve('delete_lp', lp)"
   ]
  }
 ],
 "metadata": {
  "kernelspec": {
   "display_name": "Python 3",
   "language": "python",
   "name": "python3"
  },
  "language_info": {
   "codemirror_mode": {
    "name": "ipython",
    "version": 3
   },
   "file_extension": ".py",
   "mimetype": "text/x-python",
   "name": "python",
   "nbconvert_exporter": "python",
   "pygments_lexer": "ipython3",
   "version": "3.7.3"
  }
 },
 "nbformat": 4,
 "nbformat_minor": 4
}
