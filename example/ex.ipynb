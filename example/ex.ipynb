{
 "cells": [
  {
   "cell_type": "markdown",
   "metadata": {},
   "source": [
    "# Test and Demonstrate the use of lp_solve\n",
    "[click here](http://lpsolve.sourceforge.net/5.5/Python.htm) for more details."
   ]
  },
  {
   "cell_type": "markdown",
   "metadata": {},
   "source": [
    "## import library"
   ]
  },
  {
   "cell_type": "code",
   "execution_count": null,
   "metadata": {},
   "outputs": [],
   "source": [
    "from lp_solve import *"
   ]
  },
  {
   "cell_type": "markdown",
   "metadata": {},
   "source": [
    "## Example 1 from the lp_solve distribution"
   ]
  },
  {
   "cell_type": "code",
   "execution_count": null,
   "metadata": {},
   "outputs": [],
   "source": [
    "f = [-1, 2]\n",
    "A = [[2, 1], [-4, 4]]\n",
    "b = [5, 5]\n",
    "e = [-1, -1]\n",
    "xint = [1, 2]\n",
    "\n",
    "[v,x,duals] = lp_solve(f,A,b,e,None,None,xint)\n",
    "\n",
    "print(v)\n",
    "print(x)"
   ]
  },
  {
   "cell_type": "markdown",
   "metadata": {},
   "source": [
    "## Example 2"
   ]
  },
  {
   "cell_type": "code",
   "execution_count": null,
   "metadata": {},
   "outputs": [],
   "source": [
    "f = [50, 100]\n",
    "A = [[10, 5],[4, 10],[1, 1.5]]\n",
    "b = [2500, 2000, 450]\n",
    "e = [-1, -1, -1]\n",
    "\n",
    "[v,x,duals] = lp_solve(f,A,b,e)\n",
    "print(v)\n",
    "print(x)"
   ]
  },
  {
   "cell_type": "markdown",
   "metadata": {},
   "source": [
    "## Example 3"
   ]
  },
  {
   "cell_type": "code",
   "execution_count": null,
   "metadata": {},
   "outputs": [],
   "source": [
    "f = [-40, -36]\n",
    "vub = [8, 10]\n",
    "A = [[5, 3]]\n",
    "b = [45]\n",
    "e = [1]\n",
    "\n",
    "[v,x,duals] = lp_solve(f,A,b,e,None,vub)\n",
    "print(v)\n",
    "print(x)"
   ]
  },
  {
   "cell_type": "markdown",
   "metadata": {},
   "source": [
    "## Example 4"
   ]
  },
  {
   "cell_type": "code",
   "execution_count": null,
   "metadata": {},
   "outputs": [],
   "source": [
    "f = [10, 6, 4]\n",
    "A = [[1, 1, 1], [10, 4, 5], [2, 2, 6]]\n",
    "b = [100, 600, 300]\n",
    "e = [-1, -1, -1]\n",
    "xint = [2]\n",
    "\n",
    "[v,x,duals] = lp_solve(f,A,b,e,None,None,xint)\n",
    "print(v)\n",
    "print(x)"
   ]
  },
  {
   "cell_type": "markdown",
   "metadata": {},
   "source": [
    "## Example 5\n",
    "### Integer programming example, page 218 of Ecker & Kupferschmid"
   ]
  },
  {
   "cell_type": "code",
   "execution_count": null,
   "metadata": {},
   "outputs": [],
   "source": [
    "f = [-3, 7, 12]\n",
    "a = [[-3, 6, 8], [6, -3, 7], [-6, 3, 3]]\n",
    "b = [12, 8, 5]\n",
    "e = [-1, -1, -1]\n",
    "xint = [1, 2, 3]\n",
    "\n",
    "[v,x,duals] = lp_solve(f,a,b,e,None,None,xint)\n",
    "print(v)\n",
    "print(x)"
   ]
  },
  {
   "cell_type": "markdown",
   "metadata": {},
   "source": [
    "## Example 6\n",
    "### 0-1 programming example, page 228 233 of Ecker & Kupferschmid"
   ]
  },
  {
   "cell_type": "code",
   "execution_count": null,
   "metadata": {},
   "outputs": [],
   "source": [
    "f = [-2, -3, -7, -7]\n",
    "a = [[1, 1, -2, -5], [-1, 2, 1, 4]]\n",
    "b = [2, -3]\n",
    "e = [1, 1]\n",
    "xint = [1, 2, 3, 4]\n",
    "vub = [1, 1, 1, 1]\n",
    "\n",
    "[v,x,duals] = lp_solve(f,a,b,e,None,vub,xint)\n",
    "print(v)\n",
    "print(x)"
   ]
  },
  {
   "cell_type": "markdown",
   "metadata": {},
   "source": [
    "## Example 7\n",
    "## 0-1 programming example, page 238 of Ecker & Kupferschmid"
   ]
  },
  {
   "cell_type": "code",
   "execution_count": null,
   "metadata": {},
   "outputs": [],
   "source": [
    "f = [-1, -2, -3, -7, -8, -8]\n",
    "a = [[5, -3, 2, -3, -1, 2], [-1, 0, 2, 1, 3, -3], [1, 2, -1, 0, 5, -1]]\n",
    "b = [-5, -1, 3]\n",
    "e = [1, 1, 1]\n",
    "xint = [1, 2, 3, 4, 5, 6]\n",
    "vub = [1, 1, 1, 1, 1, 1]\n",
    "\n",
    "[v,x,duals] = lp_solve(f,a,b,e,None,vub,xint)\n",
    "print(v)\n",
    "print(x)"
   ]
  },
  {
   "cell_type": "markdown",
   "metadata": {},
   "source": [
    "## ex2.lp from the lp_solve distribution"
   ]
  },
  {
   "cell_type": "code",
   "execution_count": null,
   "metadata": {},
   "outputs": [],
   "source": [
    "f=[8, 15]\n",
    "a = [[10, 21], [2, 1]]\n",
    "b = [156, 22]\n",
    "e = [-1, -1]\n",
    "[v,x,duals] = lp_solve(f,a,b,e)\n",
    "print(v)\n",
    "print(x)"
   ]
  },
  {
   "cell_type": "markdown",
   "metadata": {},
   "source": [
    "## ex3.lp from the lp_solve distribution"
   ]
  },
  {
   "cell_type": "code",
   "execution_count": null,
   "metadata": {},
   "outputs": [],
   "source": [
    "f=[3, 13]\n",
    "a = [[2, 9], [11, -8]]\n",
    "b = [40, 82]\n",
    "e = [-1, -1]\n",
    "[v,x,duals] = lp_solve(f,a,b,e)\n",
    "print(v)\n",
    "print(x)"
   ]
  },
  {
   "cell_type": "markdown",
   "metadata": {},
   "source": [
    "## ex6.lp from the lp_solve distribution"
   ]
  },
  {
   "cell_type": "code",
   "execution_count": null,
   "metadata": {},
   "outputs": [],
   "source": [
    "f=[592, 381, 273, 55, 48, 37, 23]\n",
    "a = [[3534, 2356, 1767, 589, 528, 451, 304]]\n",
    "b = [119567]\n",
    "e = [-1]\n",
    "xint = [1, 2, 3, 4, 5, 6, 7]\n",
    "vub = None\n",
    "[v,x,duals] = lp_solve(f,a,b,e,None,vub,xint)\n",
    "print(v)\n",
    "print(x)"
   ]
  }
 ],
 "metadata": {
  "kernelspec": {
   "display_name": "Python 3",
   "language": "python",
   "name": "python3"
  },
  "language_info": {
   "codemirror_mode": {
    "name": "ipython",
    "version": 3
   },
   "file_extension": ".py",
   "mimetype": "text/x-python",
   "name": "python",
   "nbconvert_exporter": "python",
   "pygments_lexer": "ipython3",
   "version": "3.7.3"
  }
 },
 "nbformat": 4,
 "nbformat_minor": 4
}
